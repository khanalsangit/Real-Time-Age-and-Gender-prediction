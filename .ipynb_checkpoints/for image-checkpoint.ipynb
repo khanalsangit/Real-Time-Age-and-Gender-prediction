{
 "cells": [
  {
   "cell_type": "code",
   "execution_count": 1,
   "id": "bbcf26d1",
   "metadata": {},
   "outputs": [],
   "source": [
    "from keras.models import load_model\n",
    "from time import sleep\n",
    "from tensorflow.keras.utils import img_to_array\n",
    "# from keras.preprocessing.image import img_to_array\n",
    "from keras.preprocessing import image\n",
    "import cv2\n",
    "import numpy as np"
   ]
  },
  {
   "cell_type": "code",
   "execution_count": 2,
   "id": "ae918451",
   "metadata": {},
   "outputs": [],
   "source": [
    "face_classifier=cv2.CascadeClassifier(\"D:/finalProject/Age-Gender/Creato/haarcascade_frontalface_default.xml\")\n",
    "age_model = load_model('age_model_50epochs.h5')\n",
    "gender_model = load_model('gender_model_50epochs.h5')\n"
   ]
  },
  {
   "cell_type": "code",
   "execution_count": 3,
   "id": "571d1a6d",
   "metadata": {},
   "outputs": [],
   "source": [
    "gender_labels = ['Male', 'Female']"
   ]
  },
  {
   "cell_type": "code",
   "execution_count": 4,
   "id": "1c6b1e29",
   "metadata": {},
   "outputs": [],
   "source": [
    "img_path = \"dei5.jpg\""
   ]
  },
  {
   "cell_type": "code",
   "execution_count": 5,
   "id": "e43aeaab",
   "metadata": {},
   "outputs": [],
   "source": [
    "img = cv2.imread(img_path)\n",
    "gray = cv2.cvtColor(img, cv2.COLOR_BGR2GRAY)\n",
    "\n",
    "# Detect faces in the image\n",
    "faces = face_classifier.detectMultiScale(gray, 1.3, 5)\n"
   ]
  },
  {
   "cell_type": "code",
   "execution_count": 6,
   "id": "b2fa2c43",
   "metadata": {},
   "outputs": [
    {
     "name": "stdout",
     "output_type": "stream",
     "text": [
      "1/1 [==============================] - 0s 145ms/step\n",
      "1/1 [==============================] - 0s 96ms/step\n",
      "1/1 [==============================] - 0s 36ms/step\n",
      "1/1 [==============================] - 0s 40ms/step\n"
     ]
    }
   ],
   "source": [
    "for (x, y, w, h) in faces:\n",
    "    cv2.rectangle(img, (x, y), (x+w, y+h), (255, 0, 0), 2)\n",
    "    roi_gray = gray[y:y+h, x:x+w]\n",
    "    roi_gray = cv2.resize(roi_gray, (48, 48), interpolation=cv2.INTER_AREA)\n",
    "\n",
    "    # Get image ready for prediction\n",
    "    roi = roi_gray.astype('float') / 255.0  # Scale\n",
    "    roi = img_to_array(roi)\n",
    "    roi = np.expand_dims(roi, axis=0)  # Expand dims to get it ready for prediction (1, 48, 48, 1)\n",
    "\n",
    "    # Gender\n",
    "    roi_color = img[y:y+h, x:x+w]\n",
    "    roi_color = cv2.resize(roi_color, (200, 200), interpolation=cv2.INTER_AREA)\n",
    "    gender_predict = gender_model.predict(np.array(roi_color).reshape(-1, 200, 200, 3))\n",
    "    gender_predict = (gender_predict >= 0.5).astype(int)[:, 0]\n",
    "    gender_label = gender_labels[gender_predict[0]]\n",
    "    gender_label_position = (x, y+h+50)  # 50 pixels below to move the label outside the face\n",
    "    cv2.putText(img, gender_label, gender_label_position, cv2.FONT_HERSHEY_SIMPLEX, 1, (0, 255, 0), 2)\n",
    "\n",
    "    # Age\n",
    "    age_predict = age_model.predict(np.array(roi_color).reshape(-1, 200, 200, 3))\n",
    "    age = round(age_predict[0, 0])\n",
    "    age_label_position = (x+h, y+h)\n",
    "    age1=(age-5,age+5)\n",
    "    cv2.putText(img, \"Age=\" + str(age1), age_label_position, cv2.FONT_HERSHEY_SIMPLEX, 1, (0, 255, 0), 2)\n",
    "cv2.imshow('Emotion Detector', img)\n",
    "cv2.waitKey(0)\n",
    "cv2.destroyAllWindows()"
   ]
  }
 ],
 "metadata": {
  "kernelspec": {
   "display_name": "Python 3 (ipykernel)",
   "language": "python",
   "name": "python3"
  },
  "language_info": {
   "codemirror_mode": {
    "name": "ipython",
    "version": 3
   },
   "file_extension": ".py",
   "mimetype": "text/x-python",
   "name": "python",
   "nbconvert_exporter": "python",
   "pygments_lexer": "ipython3",
   "version": "3.10.5"
  }
 },
 "nbformat": 4,
 "nbformat_minor": 5
}
